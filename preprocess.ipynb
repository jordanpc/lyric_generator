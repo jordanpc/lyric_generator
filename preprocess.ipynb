{
 "cells": [
  {
   "cell_type": "code",
   "execution_count": 1,
   "metadata": {
    "scrolled": true
   },
   "outputs": [
    {
     "data": {
      "text/html": [
       "<div>\n",
       "<style scoped>\n",
       "    .dataframe tbody tr th:only-of-type {\n",
       "        vertical-align: middle;\n",
       "    }\n",
       "\n",
       "    .dataframe tbody tr th {\n",
       "        vertical-align: top;\n",
       "    }\n",
       "\n",
       "    .dataframe thead th {\n",
       "        text-align: right;\n",
       "    }\n",
       "</style>\n",
       "<table border=\"1\" class=\"dataframe\">\n",
       "  <thead>\n",
       "    <tr style=\"text-align: right;\">\n",
       "      <th></th>\n",
       "      <th>song</th>\n",
       "      <th>artist</th>\n",
       "      <th>year</th>\n",
       "      <th>lyrics</th>\n",
       "    </tr>\n",
       "  </thead>\n",
       "  <tbody>\n",
       "    <tr>\n",
       "      <th>0</th>\n",
       "      <td>wooly bully</td>\n",
       "      <td>sam the sham and the pharaohs</td>\n",
       "      <td>1965</td>\n",
       "      <td>sam the sham miscellaneous wooly bully wooly b...</td>\n",
       "    </tr>\n",
       "    <tr>\n",
       "      <th>1</th>\n",
       "      <td>i cant help myself sugar pie honey bunch</td>\n",
       "      <td>four tops</td>\n",
       "      <td>1965</td>\n",
       "      <td>sugar pie honey bunch you know that i love yo...</td>\n",
       "    </tr>\n",
       "    <tr>\n",
       "      <th>2</th>\n",
       "      <td>i cant get no satisfaction</td>\n",
       "      <td>the rolling stones</td>\n",
       "      <td>1965</td>\n",
       "      <td>I can't get no satisfaction, I can't get no sa...</td>\n",
       "    </tr>\n",
       "    <tr>\n",
       "      <th>3</th>\n",
       "      <td>you were on my mind</td>\n",
       "      <td>we five</td>\n",
       "      <td>1965</td>\n",
       "      <td>when i woke up this morning you were on my mi...</td>\n",
       "    </tr>\n",
       "    <tr>\n",
       "      <th>4</th>\n",
       "      <td>youve lost that lovin feelin</td>\n",
       "      <td>the righteous brothers</td>\n",
       "      <td>1965</td>\n",
       "      <td>you never close your eyes anymore when i kiss...</td>\n",
       "    </tr>\n",
       "  </tbody>\n",
       "</table>\n",
       "</div>"
      ],
      "text/plain": [
       "                                       song                         artist  \\\n",
       "0                               wooly bully  sam the sham and the pharaohs   \n",
       "1  i cant help myself sugar pie honey bunch                      four tops   \n",
       "2                i cant get no satisfaction             the rolling stones   \n",
       "3                       you were on my mind                        we five   \n",
       "4              youve lost that lovin feelin         the righteous brothers   \n",
       "\n",
       "   year                                             lyrics  \n",
       "0  1965  sam the sham miscellaneous wooly bully wooly b...  \n",
       "1  1965   sugar pie honey bunch you know that i love yo...  \n",
       "2  1965  I can't get no satisfaction, I can't get no sa...  \n",
       "3  1965   when i woke up this morning you were on my mi...  \n",
       "4  1965   you never close your eyes anymore when i kiss...  "
      ]
     },
     "execution_count": 1,
     "metadata": {},
     "output_type": "execute_result"
    }
   ],
   "source": [
    "import pandas as pd\n",
    "import re\n",
    "\n",
    "# load all lyrics\n",
    "data = pd.read_csv('lyrics.csv', encoding='latin1')\n",
    "\n",
    "data.head()"
   ]
  },
  {
   "cell_type": "code",
   "execution_count": 2,
   "metadata": {},
   "outputs": [],
   "source": [
    "# pre-compile regex\n",
    "apostrophe = re.compile(r'(\\w)\\'([smt]|l{2}\\s)', re.IGNORECASE)\n",
    "punctuation = re.compile(r'([^\\s])([-!?,.])', re.IGNORECASE)\n",
    "single_word_brackets = re.compile(r'\\n[\\([][\\w\\-]+(\\s\\d+)?:?[\\]\\)]\\s*\\n', re.IGNORECASE)  # [Pre-Hook]\n",
    "single_word_colon = re.compile(r'\\n[\\w\\-]+(\\s\\d+)?:\\s*\\n', re.IGNORECASE)  # Verse 4:\n",
    "short_lines = re.compile(r'\\n+(.{0,10}\\n)', re.IGNORECASE)  # lines up to 10 chars\n",
    "special_char = re.compile(r'[^\\w\\s]', re.IGNORECASE)  # !IMPORTANT: removes umlaut\n",
    "empty_lines = re.compile(r'\\n\\s*\\n', re.IGNORECASE)\n",
    "spaces = re.compile(r'  +', re.IGNORECASE)"
   ]
  },
  {
   "cell_type": "code",
   "execution_count": 3,
   "metadata": {},
   "outputs": [],
   "source": [
    "# new_lyrics = []\n",
    "\n",
    "# if len(songs.lyrics.dropna()) > 50:\n",
    "#     print('g')\n",
    "#     for song in songs.lyrics.dropna():\n",
    "#         artist_lyrics += song + '\\n'\n",
    "# clean the lyrics\n",
    "def lyric_cleaner(lyrics):\n",
    "    artist_lyrics = str(lyrics)\n",
    "    artist_lyrics = re.sub(apostrophe, r\"\\1 '\\2\", artist_lyrics)\n",
    "    artist_lyrics = re.sub(punctuation, r\"\\1 \\2\", artist_lyrics)\n",
    "    artist_lyrics = re.sub(single_word_brackets, '\\n', artist_lyrics)\n",
    "    artist_lyrics = re.sub(single_word_colon, '\\n', artist_lyrics)\n",
    "    # Otional steps:\n",
    "    # take out all special characters\n",
    "    artist_lyrics = re.sub(special_char, '', artist_lyrics)  # !IMPORTANT: removes umlaut\n",
    "    # merge all short lines with the line above\n",
    "    artist_lyrics = re.sub(short_lines, r' \\1', artist_lyrics)\n",
    "    # remove any empty lines\n",
    "    artist_lyrics = re.sub(empty_lines, '\\n', artist_lyrics)\n",
    "    artist_lyrics = re.sub(spaces, ' ', artist_lyrics)\n",
    "    # everything to lowercase\n",
    "    artist_lyrics = artist_lyrics.lower()\n",
    "    return(artist_lyrics)\n",
    "    # save the lyrics\n",
    "#     new_lyrics.append(artist_lyrics)\n",
    "#     if len(artist_lyrics.splitlines()) > 1000:\n",
    "#         print(\"HTRHRTHJRJR\")\n",
    "#         with open(artist + '.txt', 'w', encoding='utf-8') as f:\n",
    "#             f.write(artist_lyrics)"
   ]
  },
  {
   "cell_type": "code",
   "execution_count": 4,
   "metadata": {},
   "outputs": [],
   "source": [
    "data['cleaned_lyrics'] = data['lyrics'].apply(lyric_cleaner)"
   ]
  },
  {
   "cell_type": "code",
   "execution_count": 5,
   "metadata": {},
   "outputs": [],
   "source": [
    "data.to_csv('cleaned_lyrics.csv')"
   ]
  }
 ],
 "metadata": {
  "kernelspec": {
   "display_name": "Python 3",
   "language": "python",
   "name": "python3"
  },
  "language_info": {
   "codemirror_mode": {
    "name": "ipython",
    "version": 3
   },
   "file_extension": ".py",
   "mimetype": "text/x-python",
   "name": "python",
   "nbconvert_exporter": "python",
   "pygments_lexer": "ipython3",
   "version": "3.6.4"
  }
 },
 "nbformat": 4,
 "nbformat_minor": 2
}
